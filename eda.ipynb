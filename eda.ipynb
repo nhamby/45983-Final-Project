{
 "cells": [
  {
   "cell_type": "markdown",
   "id": "ce7caf82",
   "metadata": {},
   "source": [
    "# EDA"
   ]
  },
  {
   "cell_type": "code",
   "execution_count": 1,
   "id": "77f369cb",
   "metadata": {},
   "outputs": [],
   "source": [
    "# load libraries\n",
    "from datetime import datetime\n",
    "import matplotlib.pyplot as plt\n",
    "import numpy as np\n",
    "import os\n",
    "import pandas as pd\n",
    "import seaborn as sns\n",
    "from scipy.stats import ttest_ind, chi2_contingency\n",
    "import time\n",
    "start_time = time.time()"
   ]
  },
  {
   "cell_type": "code",
   "execution_count": 2,
   "id": "700b12a1",
   "metadata": {},
   "outputs": [],
   "source": [
    "output_dir = \"figures\"\n",
    "os.makedirs(output_dir, exist_ok=True)"
   ]
  },
  {
   "cell_type": "code",
   "execution_count": 3,
   "id": "0f0cc9d8",
   "metadata": {},
   "outputs": [
    {
     "name": "stdout",
     "output_type": "stream",
     "text": [
      "<class 'pandas.core.frame.DataFrame'>\n",
      "RangeIndex: 171947 entries, 0 to 171946\n",
      "Data columns (total 75 columns):\n",
      " #   Column                                        Non-Null Count   Dtype  \n",
      "---  ------                                        --------------   -----  \n",
      " 0   id                                            171947 non-null  int64  \n",
      " 1   listing_url                                   171947 non-null  object \n",
      " 2   scrape_id                                     171947 non-null  int64  \n",
      " 3   last_scraped                                  171947 non-null  object \n",
      " 4   source                                        171947 non-null  object \n",
      " 5   name                                          171943 non-null  object \n",
      " 6   description                                   169104 non-null  object \n",
      " 7   neighborhood_overview                         99737 non-null   object \n",
      " 8   picture_url                                   171947 non-null  object \n",
      " 9   host_id                                       171947 non-null  int64  \n",
      " 10  host_url                                      171947 non-null  object \n",
      " 11  host_name                                     171939 non-null  object \n",
      " 12  host_since                                    171939 non-null  object \n",
      " 13  host_location                                 135985 non-null  object \n",
      " 14  host_about                                    98896 non-null   object \n",
      " 15  host_response_time                            134035 non-null  object \n",
      " 16  host_response_rate                            134035 non-null  object \n",
      " 17  host_acceptance_rate                          137062 non-null  object \n",
      " 18  host_is_superhost                             158737 non-null  object \n",
      " 19  host_thumbnail_url                            171939 non-null  object \n",
      " 20  host_picture_url                              171939 non-null  object \n",
      " 21  host_neighbourhood                            135606 non-null  object \n",
      " 22  host_listings_count                           171939 non-null  float64\n",
      " 23  host_total_listings_count                     171939 non-null  float64\n",
      " 24  host_verifications                            171947 non-null  object \n",
      " 25  host_has_profile_pic                          171939 non-null  object \n",
      " 26  host_identity_verified                        171939 non-null  object \n",
      " 27  neighbourhood                                 99741 non-null   object \n",
      " 28  neighbourhood_cleansed                        171947 non-null  object \n",
      " 29  neighbourhood_group_cleansed                  171947 non-null  object \n",
      " 30  latitude                                      171947 non-null  float64\n",
      " 31  longitude                                     171947 non-null  float64\n",
      " 32  property_type                                 171947 non-null  object \n",
      " 33  room_type                                     171947 non-null  object \n",
      " 34  accommodates                                  171947 non-null  int64  \n",
      " 35  bathrooms                                     0 non-null       float64\n",
      " 36  bathrooms_text                                171812 non-null  object \n",
      " 37  bedrooms                                      136630 non-null  float64\n",
      " 38  beds                                          169545 non-null  float64\n",
      " 39  amenities                                     171947 non-null  object \n",
      " 40  price                                         171947 non-null  object \n",
      " 41  minimum_nights                                171947 non-null  int64  \n",
      " 42  maximum_nights                                171947 non-null  int64  \n",
      " 43  minimum_minimum_nights                        171933 non-null  float64\n",
      " 44  maximum_minimum_nights                        171933 non-null  float64\n",
      " 45  minimum_maximum_nights                        171933 non-null  float64\n",
      " 46  maximum_maximum_nights                        171933 non-null  float64\n",
      " 47  minimum_nights_avg_ntm                        171933 non-null  float64\n",
      " 48  maximum_nights_avg_ntm                        171933 non-null  float64\n",
      " 49  calendar_updated                              0 non-null       float64\n",
      " 50  has_availability                              171947 non-null  object \n",
      " 51  availability_30                               171947 non-null  int64  \n",
      " 52  availability_60                               171947 non-null  int64  \n",
      " 53  availability_90                               171947 non-null  int64  \n",
      " 54  availability_365                              171947 non-null  int64  \n",
      " 55  calendar_last_scraped                         171947 non-null  object \n",
      " 56  number_of_reviews                             171947 non-null  int64  \n",
      " 57  number_of_reviews_ltm                         171947 non-null  int64  \n",
      " 58  number_of_reviews_l30d                        171947 non-null  int64  \n",
      " 59  first_review                                  125370 non-null  object \n",
      " 60  last_review                                   125370 non-null  object \n",
      " 61  review_scores_rating                          125370 non-null  float64\n",
      " 62  review_scores_accuracy                        124391 non-null  float64\n",
      " 63  review_scores_cleanliness                     124394 non-null  float64\n",
      " 64  review_scores_checkin                         124368 non-null  float64\n",
      " 65  review_scores_communication                   124393 non-null  float64\n",
      " 66  review_scores_location                        124361 non-null  float64\n",
      " 67  review_scores_value                           124351 non-null  float64\n",
      " 68  license                                       43343 non-null   object \n",
      " 69  instant_bookable                              171947 non-null  object \n",
      " 70  calculated_host_listings_count                171947 non-null  int64  \n",
      " 71  calculated_host_listings_count_entire_homes   171947 non-null  int64  \n",
      " 72  calculated_host_listings_count_private_rooms  171947 non-null  int64  \n",
      " 73  calculated_host_listings_count_shared_rooms   171947 non-null  int64  \n",
      " 74  reviews_per_month                             125370 non-null  float64\n",
      "dtypes: float64(22), int64(17), object(36)\n",
      "memory usage: 98.4+ MB\n"
     ]
    }
   ],
   "source": [
    "listings_large_1_df = pd.read_csv(\"data/LA_2022.10-12/listings.csv.gz\")\n",
    "listings_large_2_df = pd.read_csv(\"data/LA_2023.1-3/listings.csv.gz\")\n",
    "listings_large_3_df = pd.read_csv(\"data/LA_2023.4-6/listings.csv.gz\")\n",
    "listings_large_4_df = pd.read_csv(\"data/LA_2023.7-9/listings.csv.gz\")\n",
    "\n",
    "listings_large_combined_df = pd.concat(\n",
    "    [listings_large_1_df, listings_large_2_df, listings_large_3_df, listings_large_4_df],\n",
    "    ignore_index=True\n",
    ")\n",
    "\n",
    "listings_large_combined_df.info()"
   ]
  },
  {
   "cell_type": "code",
   "execution_count": 4,
   "id": "f6bc883e",
   "metadata": {},
   "outputs": [
    {
     "name": "stdout",
     "output_type": "stream",
     "text": [
      "<class 'pandas.core.frame.DataFrame'>\n",
      "RangeIndex: 5748175 entries, 0 to 5748174\n",
      "Data columns (total 6 columns):\n",
      " #   Column         Dtype \n",
      "---  ------         ----- \n",
      " 0   listing_id     int64 \n",
      " 1   id             int64 \n",
      " 2   date           object\n",
      " 3   reviewer_id    int64 \n",
      " 4   reviewer_name  object\n",
      " 5   comments       object\n",
      "dtypes: int64(3), object(3)\n",
      "memory usage: 263.1+ MB\n"
     ]
    }
   ],
   "source": [
    "reviews_large_1_df = pd.read_csv(\"data/LA_2022.10-12/reviews.csv.gz\")\n",
    "reviews_large_2_df = pd.read_csv(\"data/LA_2023.1-3/reviews.csv.gz\")\n",
    "reviews_large_3_df = pd.read_csv(\"data/LA_2023.4-6/reviews.csv.gz\")\n",
    "reviews_large_4_df = pd.read_csv(\"data/LA_2023.7-9/reviews.csv.gz\")\n",
    "\n",
    "reviews_large_combined_df = pd.concat(\n",
    "    [reviews_large_1_df, reviews_large_2_df, reviews_large_3_df, reviews_large_4_df],\n",
    "    ignore_index=True\n",
    ")\n",
    "\n",
    "reviews_large_combined_df.info()"
   ]
  },
  {
   "cell_type": "code",
   "execution_count": 5,
   "id": "5c9d2134",
   "metadata": {},
   "outputs": [],
   "source": [
    "top_listings = listings_large_combined_df.loc[listings_large_combined_df['number_of_reviews'] >= 10]\n",
    "\n",
    "top_listings = top_listings.sort_values(\n",
    "    by=['review_scores_rating', 'number_of_reviews'],\n",
    "    ascending=[False, False]\n",
    ")\n",
    "\n",
    "top_listings_df = top_listings[[\n",
    "    'id', 'name', 'neighbourhood_cleansed',\n",
    "    'price', 'number_of_reviews', 'review_scores_rating'\n",
    "]].head(50)"
   ]
  },
  {
   "cell_type": "code",
   "execution_count": 6,
   "id": "70659ec7",
   "metadata": {},
   "outputs": [],
   "source": [
    "df = listings_large_combined_df.copy()\n",
    "\n",
    "df['price'] = df['price'].str.replace('[\\$,]', '', regex=True).astype(float)\n",
    "\n",
    "df['host_since'] = pd.to_datetime(df['host_since'])\n",
    "df['host_experience_days'] = (datetime.now() - df['host_since']).dt.days\n",
    "\n",
    "df['amenities_count'] = df['amenities'].str.split(',').apply(len)\n",
    "\n",
    "df['is_superhost'] = df['host_is_superhost'] == 't'\n",
    "df['instant_bookable'] = df['instant_bookable'] == 't'"
   ]
  },
  {
   "cell_type": "code",
   "execution_count": 7,
   "id": "8085f6e2",
   "metadata": {},
   "outputs": [],
   "source": [
    "top_ids = set(top_listings_df['id'])\n",
    "df['is_top'] = df['id'].isin(top_ids)"
   ]
  },
  {
   "cell_type": "code",
   "execution_count": 8,
   "id": "a9a6d25c",
   "metadata": {},
   "outputs": [
    {
     "name": "stdout",
     "output_type": "stream",
     "text": [
      "            price_mean  price_median  accommodates_mean  accommodates_median  \\\n",
      "is_top_2                                                                       \n",
      "Top 10%         213.51         168.0               2.55                  2.0   \n",
      "Bottom 90%      283.55         146.0               3.92                  3.0   \n",
      "\n",
      "            bedrooms_mean  bedrooms_median  beds_mean  beds_median  \\\n",
      "is_top_2                                                             \n",
      "Top 10%              1.21              1.0       1.43          1.0   \n",
      "Bottom 90%           1.90              1.0       2.17          2.0   \n",
      "\n",
      "            host_experience_days_mean  host_experience_days_median  \\\n",
      "is_top_2                                                             \n",
      "Top 10%                       3468.01                       3334.0   \n",
      "Bottom 90%                    2920.78                       3048.0   \n",
      "\n",
      "            amenities_count_mean  amenities_count_median  \n",
      "is_top_2                                                  \n",
      "Top 10%                    47.83                    46.0  \n",
      "Bottom 90%                 35.43                    33.0  \n"
     ]
    }
   ],
   "source": [
    "features = [\n",
    "    'price', 'accommodates', 'bedrooms', 'beds',\n",
    "    'host_experience_days', 'amenities_count'\n",
    "]\n",
    "\n",
    "df['is_top_2'] = df['is_top'].map({True: 'Top 10%', False: 'Bottom 90%'})\n",
    "\n",
    "summary = df.groupby('is_top_2')[features].agg(['mean', 'median'])\n",
    "\n",
    "summary.columns = ['_'.join(col).strip() for col in summary.columns.values]\n",
    "\n",
    "summary = summary.loc[[\"Top 10%\", \"Bottom 90%\"]]\n",
    "\n",
    "print(summary.round(2))"
   ]
  },
  {
   "cell_type": "code",
   "execution_count": 13,
   "id": "bc91e3fc",
   "metadata": {},
   "outputs": [
    {
     "name": "stdout",
     "output_type": "stream",
     "text": [
      "\n",
      "feature: room_type\n",
      " is_top_2         Bottom 90%  Top 10%\n",
      "room_type                           \n",
      "Entire home/apt       0.708    0.867\n",
      "Hotel room            0.002    0.000\n",
      "Private room          0.273    0.133\n",
      "Shared room           0.017    0.000\n",
      "\n",
      "feature: property_type\n",
      " is_top_2       Bottom 90%  Top 10%\n",
      "property_type                     \n",
      "Barn                0.000    0.000\n",
      "Boat                0.000    0.000\n",
      "Bus                 0.000    0.000\n",
      "Camper/RV           0.004    0.053\n",
      "Campsite            0.001    0.000\n",
      "\n",
      "feature: is_superhost\n",
      " is_top_2      Bottom 90%  Top 10%\n",
      "is_superhost                     \n",
      "False              0.701    0.053\n",
      "True               0.299    0.947\n",
      "\n",
      "feature: instant_bookable\n",
      " is_top_2          Bottom 90%  Top 10%\n",
      "instant_bookable                     \n",
      "False                  0.714     0.88\n",
      "True                   0.286     0.12\n"
     ]
    }
   ],
   "source": [
    "for col in ['room_type', 'property_type', 'is_superhost', 'instant_bookable']:\n",
    "    ct = pd.crosstab(df[col], df['is_top_2'], normalize='columns')\n",
    "    print(f\"\\nfeature: {col}\\n\", ct.head(5).round(3))"
   ]
  },
  {
   "cell_type": "code",
   "execution_count": null,
   "id": "c14250b7",
   "metadata": {},
   "outputs": [
    {
     "name": "stdout",
     "output_type": "stream",
     "text": [
      "price t‑test p‑value: 4.444411186759661e-06\n",
      "superhost chi2 p‑value: 9.060479944865947e-34\n"
     ]
    }
   ],
   "source": [
    "tstat, pval = ttest_ind(\n",
    "    df.loc[df['is_top'], 'price'],\n",
    "    df.loc[~df['is_top'], 'price'], \n",
    "    equal_var=False\n",
    ")\n",
    "print(\"price t‑test p‑value:\", pval)\n",
    "\n",
    "ct = pd.crosstab(df['is_superhost'], df['is_top'])\n",
    "chi2, pval, _, _ = chi2_contingency(ct)\n",
    "print(\"superhost chi2 p‑value:\", pval)"
   ]
  },
  {
   "cell_type": "markdown",
   "id": "a8ed3c11",
   "metadata": {},
   "source": [
    "Note: low p-values represent statistical significance."
   ]
  },
  {
   "cell_type": "code",
   "execution_count": null,
   "id": "8a3cc998",
   "metadata": {},
   "outputs": [
    {
     "name": "stdout",
     "output_type": "stream",
     "text": [
      "total notebook execution time: 25 seconds\n"
     ]
    }
   ],
   "source": [
    "end_time = time.time()\n",
    "print(\"total notebook execution time: {:.0f} seconds\".format(end_time - start_time))"
   ]
  }
 ],
 "metadata": {
  "kernelspec": {
   "display_name": "45983",
   "language": "python",
   "name": "python3"
  },
  "language_info": {
   "codemirror_mode": {
    "name": "ipython",
    "version": 3
   },
   "file_extension": ".py",
   "mimetype": "text/x-python",
   "name": "python",
   "nbconvert_exporter": "python",
   "pygments_lexer": "ipython3",
   "version": "3.9.21"
  }
 },
 "nbformat": 4,
 "nbformat_minor": 5
}
